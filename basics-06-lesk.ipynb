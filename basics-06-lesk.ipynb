{
  "nbformat": 4,
  "nbformat_minor": 0,
  "metadata": {
    "colab": {
      "provenance": []
    },
    "kernelspec": {
      "name": "python3",
      "display_name": "Python 3"
    },
    "language_info": {
      "name": "python"
    }
  },
  "cells": [
    {
      "cell_type": "markdown",
      "source": [
        "# Word Sense Disambiguation with the Simplified Lesk Algorithm\n",
        "\n",
        "In natural language, many words have multiple meanings (or \"senses\"). For example, the word **\"bank\"** can refer to a **financial institution** or the **side of a river**.\n",
        "\n",
        "**Word Sense Disambiguation (WSD)** is the task of identifying which meaning of a word is used in a particular context.\n",
        "\n",
        "In this notebook, we'll explore the **Simplified Lesk Algorithm**, a classic approach to WSD that uses dictionary definitions (called *glosses*) to identify the best-fitting sense of a word based on context.\n"
      ],
      "metadata": {
        "id": "MbM-zF49cQ-_"
      }
    },
    {
      "cell_type": "markdown",
      "source": [
        "Prerequisites"
      ],
      "metadata": {
        "id": "y54wiUiOcbah"
      }
    },
    {
      "cell_type": "code",
      "execution_count": 28,
      "metadata": {
        "id": "047554CjXzu6"
      },
      "outputs": [],
      "source": [
        "!pip install -q nltk\n",
        "\n",
        "import nltk\n",
        "nltk.download('wordnet', quiet=True)\n",
        "nltk.download('punkt_tab', quiet=True);"
      ]
    },
    {
      "cell_type": "markdown",
      "source": [
        "## How the Simplified Lesk Algorithm Works\n",
        "\n",
        "The basic idea of the algorithm is:\n",
        "- For each possible meaning (sense) of the target word:\n",
        "  - Look at the definition (and example sentences) of that sense.\n",
        "  - Count how many words from that definition overlap with the words in the context sentence.\n",
        "- Choose the sense with the highest overlap.\n",
        "\n",
        "Now let's implement this in code.\n"
      ],
      "metadata": {
        "id": "__lFNyh2ci1I"
      }
    },
    {
      "cell_type": "code",
      "source": [
        "from nltk.corpus import wordnet as wn\n",
        "from nltk.tokenize import word_tokenize\n",
        "\n",
        "def similarities(word, sentence):\n",
        "  # We could/should also do stopword removal and lemmatization here\n",
        "  context = set(word_tokenize(sentence.lower()))\n",
        "  for sense in wn.synsets(word):\n",
        "    # Gloss and example sentences as sense_context\n",
        "    sense_context = set(word_tokenize(sense.definition().lower()))\n",
        "    for example in sense.examples():\n",
        "        sense_context.update(word_tokenize(example.lower()))\n",
        "\n",
        "    # Compute overlap (number of words shared between context and sense context)\n",
        "    overlap = len(context & sense_context)\n",
        "    yield sense, overlap\n",
        "\n",
        "def simplified_lesk(word: str, sentence: str):\n",
        "  \"\"\"\n",
        "  Simplified Lesk algorithm: chooses the sense of a word that has the most overlap\n",
        "  with the context (surrounding words in the sentence).\n",
        "  \"\"\"\n",
        "  return max(similarities(word, sentence), key=lambda x: x[1])[0]\n",
        "\n",
        "# 🔍 Example usage\n",
        "def test(word: str, sentence: str, verbose: bool=False):\n",
        "  sense = simplified_lesk(word, sentence)\n",
        "\n",
        "  print(f\"Best sense for '{word}':\")\n",
        "  print(f\" - Definition: {sense.definition()}\")\n",
        "  print(f\" - Examples: {sense.examples()}\")\n",
        "\n",
        "  if verbose:\n",
        "    print()\n",
        "    print(f\"Overlaps:\")\n",
        "    for sense, overlap in sorted(list(similarities(word, sentence)), key=lambda x: x[1], reverse=True):\n",
        "      print(f\"[{overlap}] {sense.definition()}\")\n",
        "      print(f\"    {sense.examples()}\")"
      ],
      "metadata": {
        "id": "0_EqVRmEX6uI"
      },
      "execution_count": 31,
      "outputs": []
    },
    {
      "cell_type": "markdown",
      "source": [
        "## Example: Disambiguating \"bank\"\n",
        "\n",
        "Let's use the algorithm to determine the correct sense of the word **\"bank\"** in the sentence:\n",
        "\n",
        "> He went to the bank to deposit some money into his account and keep it safe\n",
        "\n",
        "We expect the algorithm to choose the **financial institution** meaning based on the context words like *deposit*, *money*, *account*, and *safe*.\n"
      ],
      "metadata": {
        "id": "FvE_CfeIcozr"
      }
    },
    {
      "cell_type": "code",
      "source": [
        "test(\"bank\", \"he went to the bank to deposit some money into his account and keep it safe\", verbose=True)"
      ],
      "metadata": {
        "colab": {
          "base_uri": "https://localhost:8080/"
        },
        "id": "IGpbIWESavuN",
        "outputId": "42aea602-acd6-4b34-9adc-d51060a91408"
      },
      "execution_count": 33,
      "outputs": [
        {
          "output_type": "stream",
          "name": "stdout",
          "text": [
            "Best sense for 'bank':\n",
            " - Definition: a financial institution that accepts deposits and channels the money into lending activities\n",
            " - Examples: ['he cashed a check at the bank', 'that bank holds the mortgage on my home']\n",
            "\n",
            "Overlaps:\n",
            "[6] a financial institution that accepts deposits and channels the money into lending activities\n",
            "    ['he cashed a check at the bank', 'that bank holds the mortgage on my home']\n",
            "[5] the funds held by a gambling house or the dealer in some gambling games\n",
            "    ['he tried to break the bank at Monte Carlo']\n",
            "[4] sloping land (especially the slope beside a body of water)\n",
            "    ['they pulled the canoe up on the bank', 'he sat on the bank of the river and watched the currents']\n",
            "[4] a flight maneuver; aircraft tips laterally about its longitudinal axis (especially in turning)\n",
            "    ['the plane went into a steep bank']\n",
            "[3] a container (usually with a slot in the top) for keeping money at home\n",
            "    ['the coin bank was empty']\n",
            "[3] a building in which the business of banking transacted\n",
            "    ['the bank is on the corner of Nassau and Witherspoon']\n",
            "[3] tip laterally\n",
            "    ['the pilot had to bank the aircraft']\n",
            "[3] do business with a bank or keep an account at a bank\n",
            "    ['Where do you bank in this town?']\n",
            "[3] put into a bank account\n",
            "    ['She deposits her paycheck every month']\n",
            "[3] cover with ashes so to control the rate of burning\n",
            "    ['bank a fire']\n",
            "[2] an arrangement of similar objects in a row or in tiers\n",
            "    ['he operated a bank of switches']\n",
            "[2] a slope in the turn of a road or track; the outside is higher than the inside in order to reduce the effects of centrifugal force\n",
            "    []\n",
            "[1] a long ridge or pile\n",
            "    ['a huge bank of earth']\n",
            "[1] enclose with a bank\n",
            "    ['bank roads']\n",
            "[1] act as the banker in a game or in gambling\n",
            "    []\n",
            "[1] be in the banking business\n",
            "    []\n",
            "[1] have confidence or faith in\n",
            "    ['We can trust in God', 'Rely on your friends', 'bank on your good education', \"I swear by my grandmother's recipes\"]\n",
            "[0] a supply or stock held in reserve for future use (especially in emergencies)\n",
            "    []\n"
          ]
        }
      ]
    },
    {
      "cell_type": "code",
      "source": [
        "test(\"bank\", \"the plane banked to the right\")"
      ],
      "metadata": {
        "colab": {
          "base_uri": "https://localhost:8080/"
        },
        "id": "qWTxCy3pbOv1",
        "outputId": "4a754428-0546-4eb0-80cf-c4ac31c0e6dc"
      },
      "execution_count": 34,
      "outputs": [
        {
          "output_type": "stream",
          "name": "stdout",
          "text": [
            "Best sense for 'bank':\n",
            " - Definition: the funds held by a gambling house or the dealer in some gambling games\n",
            " - Examples: ['he tried to break the bank at Monte Carlo']\n"
          ]
        }
      ]
    },
    {
      "cell_type": "code",
      "source": [
        "test(\"bank\", \"the pilot banked the aircraft to the right\")"
      ],
      "metadata": {
        "colab": {
          "base_uri": "https://localhost:8080/"
        },
        "id": "RHVar6DcbnMl",
        "outputId": "04bc238a-b684-450b-b149-fdbce7d6667d"
      },
      "execution_count": 35,
      "outputs": [
        {
          "output_type": "stream",
          "name": "stdout",
          "text": [
            "Best sense for 'bank':\n",
            " - Definition: tip laterally\n",
            " - Examples: ['the pilot had to bank the aircraft']\n"
          ]
        }
      ]
    },
    {
      "cell_type": "markdown",
      "source": [
        "## Summary\n",
        "- The Simplified Lesk Algorithm is a knowledge-based method for word sense disambiguation.\n",
        "- It uses definitions (glosses) from **WordNet** to find overlaps with the sentence context.\n",
        "- While simple, it often gives surprisingly good results when context is rich.\n"
      ],
      "metadata": {
        "id": "DALosLC9c3So"
      }
    }
  ]
}